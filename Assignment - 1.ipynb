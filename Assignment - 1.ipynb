{
 "cells": [
  {
   "cell_type": "markdown",
   "metadata": {},
   "source": [
    "# Assignmnet - 1"
   ]
  },
  {
   "cell_type": "markdown",
   "metadata": {},
   "source": [
    "# Task 1"
   ]
  },
  {
   "cell_type": "markdown",
   "metadata": {},
   "source": [
    "Q1 Install Jupyter notebook and run the first program and share the screenshot of the output. "
   ]
  },
  {
   "cell_type": "code",
   "execution_count": 1,
   "metadata": {},
   "outputs": [
    {
     "name": "stdout",
     "output_type": "stream",
     "text": [
      "First Python Program\n",
      "80\n"
     ]
    }
   ],
   "source": [
    "print(\"First Python Program\")\n",
    "a=25 +30\n",
    "b=25\n",
    "print(a+b)"
   ]
  },
  {
   "cell_type": "markdown",
   "metadata": {},
   "source": [
    "Q2 Write a program which will find all such numbers which are divisible by 7 but are not a multiple of 5, \n",
    "between 2000 and 3200 (both included). The numbers obtained should be printed in a comma-separated sequence on a single line. "
   ]
  },
  {
   "cell_type": "code",
   "execution_count": null,
   "metadata": {},
   "outputs": [],
   "source": [
    "a = []\n",
    "for i in range(2000, 3201):\n",
    "    if (i%7 == 0) and (i/5 != 0):\n",
    "        a.append(str(i))\n",
    "print(\",\".join(a))"
   ]
  },
  {
   "cell_type": "markdown",
   "metadata": {},
   "source": [
    "Q3 Write a Python program to accept the user's first and last name and then getting them printed in the the reverse order\n",
    "   with a space between first name and last name.  "
   ]
  },
  {
   "cell_type": "code",
   "execution_count": 4,
   "metadata": {},
   "outputs": [
    {
     "name": "stdout",
     "output_type": "stream",
     "text": [
      "Enter your first name : Khwaja1\n",
      "Enter your last name : Lakdawala\n",
      "Please enter characters A-Z only\n",
      "Enter your first name : 1\n",
      "Enter your last name : 2\n",
      "Please enter characters A-Z only\n",
      "Enter your first name : Khwajaavais\n",
      "Enter your last name : Lakdawala\n",
      "siavaajawhK alawadkaL\n"
     ]
    }
   ],
   "source": [
    "while True:\n",
    "    Firstname = input(\"Enter your first name : \")\n",
    "    Lastname  = input(\"Enter your last name : \")\n",
    "    \n",
    "    if Firstname.isalpha() and Lastname.isalpha():\n",
    "        break\n",
    "    print(\"Please enter characters A-Z only\")\n",
    "rev_firstname = Firstname[::-1]\n",
    "rev_lastname  = Lastname[::-1]\n",
    "\n",
    "print(f\"{rev_firstname} {rev_lastname}\")"
   ]
  },
  {
   "cell_type": "markdown",
   "metadata": {},
   "source": [
    "Q4 Write a Python program to find the volume of a sphere with diameter 12 cm.  \n",
    " \n",
    "Formula: V=4/3 * π * r 3 "
   ]
  },
  {
   "cell_type": "code",
   "execution_count": null,
   "metadata": {},
   "outputs": [],
   "source": [
    "ip = input(\"Enter the Diameter{d} or Radius{r} in cm: \")\n",
    "\n",
    "if ip == \"d\":\n",
    "    diameter = int(input(\"Enter the Diameter: \"))\n",
    "    print(4/3 * 3.14 * (diameter/2) ** 3)\n",
    "    \n",
    "elif ip == \"r\":\n",
    "    radius = int(input(\"Enter the Radius: \"))\n",
    "    print(4/3 * 3.14 * radius ** 3)\n",
    "    \n",
    "else:\n",
    "    print(\"Enter Diameter or Radius\")"
   ]
  },
  {
   "cell_type": "markdown",
   "metadata": {},
   "source": [
    "# TASK - 2"
   ]
  },
  {
   "cell_type": "markdown",
   "metadata": {},
   "source": [
    "Q1 Write a program which accepts a sequence of comma-separated numbers from console and generate a list. "
   ]
  },
  {
   "cell_type": "code",
   "execution_count": 5,
   "metadata": {},
   "outputs": [
    {
     "name": "stdout",
     "output_type": "stream",
     "text": [
      "Enter the Numbers : 1,2,3,4,5,6,7,8,9,10,11,12,13,14,15\n",
      "['1', '2', '3', '4', '5', '6', '7', '8', '9', '10', '11', '12', '13', '14', '15']\n"
     ]
    }
   ],
   "source": [
    "numbers = input(\"Enter the Numbers : \")\n",
    "li = numbers.split(\",\")\n",
    "print(li)"
   ]
  },
  {
   "cell_type": "markdown",
   "metadata": {},
   "source": [
    "Q2) Create the below pattern using nested for loop in Python. \n",
    " \n",
    " * \n",
    " * * \n",
    " * * * \n",
    " * * * * \n",
    " * * * \n",
    " * * \n",
    " * "
   ]
  },
  {
   "cell_type": "code",
   "execution_count": 6,
   "metadata": {},
   "outputs": [
    {
     "name": "stdout",
     "output_type": "stream",
     "text": [
      "Enter the number of row : 5\n",
      "\n",
      "*\n",
      "**\n",
      "***\n",
      "****\n",
      "*****\n",
      "****\n",
      "***\n",
      "**\n",
      "*\n"
     ]
    }
   ],
   "source": [
    "ip = int(input(\"Enter the number of row : \"))\n",
    "\n",
    "for i in range(ip):\n",
    "    print(i * \"*\")\n",
    "for j in range(ip,0,-1):\n",
    "    print(j *\"*\")"
   ]
  },
  {
   "cell_type": "markdown",
   "metadata": {},
   "source": [
    "Q3) Write a Python program to reverse a word after accepting the input from the user. \n",
    " \n",
    "Sample Output: \n",
    "\n",
    "Input word: AcadGild \n",
    "\n",
    "Output: dliGdacA "
   ]
  },
  {
   "cell_type": "code",
   "execution_count": 7,
   "metadata": {},
   "outputs": [
    {
     "name": "stdout",
     "output_type": "stream",
     "text": [
      "Enter a Word : AcadGild\n",
      "dliGdacA\n"
     ]
    }
   ],
   "source": [
    "ip = input(\"Enter a Word : \")\n",
    "\n",
    "rev_ip = ip[::-1]\n",
    "print(rev_ip)"
   ]
  },
  {
   "cell_type": "raw",
   "metadata": {},
   "source": [
    "Q4 Write a Python Program to print the given string in the format specified in the ​sample output. \n",
    " WE, THE PEOPLE OF INDIA, having solemnly resolved to constitute India into a SOVEREIGN, SOCIALIST, SECULAR, DEMOCRATIC REPUBLIC and to secure to all its citizens \n",
    " \n",
    "Sample Output: \n",
    " \n",
    "WE, THE PEOPLE OF INDIA,   \n",
    "      having solemnly resolved to constitute India into a SOVEREIGN, !\n",
    "             SOCIALIST, SECULAR, DEMOCRATIC REPUBLIC    \n",
    "             and to secure to all its citizens \n",
    " \n",
    " "
   ]
  },
  {
   "cell_type": "code",
   "execution_count": 8,
   "metadata": {},
   "outputs": [
    {
     "name": "stdout",
     "output_type": "stream",
     "text": [
      "WE, THE PEOPLE OF INDIA,\n",
      "\thaving solemnly resolved to constitute India into a SOVEREIGN,! \n",
      "\t\tSOCIALIST, SECULAR, DEMOCRATIC REPUBLIC \n",
      "\t\t and to secure to all its citizens\n"
     ]
    }
   ],
   "source": [
    "print(\"WE, THE PEOPLE OF INDIA,\\n\\thaving solemnly resolved to constitute India into a SOVEREIGN,! \\n\\t\\tSOCIALIST, SECULAR, DEMOCRATIC REPUBLIC \\n\\t\\t and to secure to all its citizens\")"
   ]
  },
  {
   "cell_type": "code",
   "execution_count": null,
   "metadata": {},
   "outputs": [],
   "source": []
  }
 ],
 "metadata": {
  "kernelspec": {
   "display_name": "Python 3",
   "language": "python",
   "name": "python3"
  },
  "language_info": {
   "codemirror_mode": {
    "name": "ipython",
    "version": 3
   },
   "file_extension": ".py",
   "mimetype": "text/x-python",
   "name": "python",
   "nbconvert_exporter": "python",
   "pygments_lexer": "ipython3",
   "version": "3.7.6"
  }
 },
 "nbformat": 4,
 "nbformat_minor": 2
}
