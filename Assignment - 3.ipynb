{
 "cells": [
  {
   "cell_type": "markdown",
   "metadata": {},
   "source": [
    "# $$ Assignment No:3 $$"
   ]
  },
  {
   "cell_type": "code",
   "execution_count": 1,
   "metadata": {},
   "outputs": [
    {
     "name": "stdout",
     "output_type": "stream",
     "text": [
      "division by zero\n"
     ]
    }
   ],
   "source": [
    "# Q1\n",
    "\n",
    "try:\n",
    "    z=5/0\n",
    "    \n",
    "except ZeroDivisionError as error:\n",
    "        # Output expected ZeroDivisionErrors.\n",
    "        print(error)"
   ]
  },
  {
   "cell_type": "code",
   "execution_count": 2,
   "metadata": {},
   "outputs": [
    {
     "name": "stdout",
     "output_type": "stream",
     "text": [
      "Americans  play Baseball\n",
      "Americans  play Cricket\n",
      "Americans  watch Baseball\n",
      "Americans  watch Cricket\n",
      "Indians play Baseball\n",
      "Indians play Cricket\n",
      "Indians watch Baseball\n",
      "Indians watch Cricket\n"
     ]
    }
   ],
   "source": [
    "# Q2\n",
    "subjects=[\"Americans \",\"Indians\"]\n",
    "verbs=[\"play\",\"watch\"]\n",
    "objects=[\"Baseball\",\"Cricket\"]\n",
    "\n",
    "for i in subjects:\n",
    "    for j in verbs:\n",
    "        for z in objects:\n",
    "            print(f\"{i} {j} {z}\")"
   ]
  },
  {
   "cell_type": "code",
   "execution_count": 10,
   "metadata": {},
   "outputs": [
    {
     "name": "stdout",
     "output_type": "stream",
     "text": [
      "Enter the number5\n",
      "Enter the vector\n",
      "1\n",
      "2\n",
      "3\n",
      "4\n",
      "5\n",
      "Vector : [1, 2, 3, 4, 5]\n",
      "Increasing order: \n",
      " [[  1   1   1   1   1]\n",
      " [  1   2   4   8  16]\n",
      " [  1   3   9  27  81]\n",
      " [  1   4  16  64 256]\n",
      " [  1   5  25 125 625]]\n",
      "Decreasing order: \n",
      " [[  1   1   1   1   1]\n",
      " [ 16   8   4   2   1]\n",
      " [ 81  27   9   3   1]\n",
      " [256  64  16   4   1]\n",
      " [625 125  25   5   1]]\n"
     ]
    }
   ],
   "source": [
    "# Q3 \n",
    "import numpy as np\n",
    "\n",
    "def matrix(vector, n,n1):\n",
    "    \n",
    "    if n1=='dec':\n",
    "        final= np.array([x**(n-1-i) for x in vector for i in range(n)]).reshape(n,n)\n",
    "    elif n1== 'inc':\n",
    "        final = np.array([x**i for x in vector for i in range(n)]).reshape(n,n)\n",
    "    \n",
    "    return final\n",
    "# vector=(1,2,3,4,5)\n",
    "# n=5\n",
    "\n",
    "# INPUT\n",
    "n = int(input(\"Enter the number\"))\n",
    "print(\"Enter the vector\")\n",
    "vector=[]\n",
    "for i in range(n):\n",
    "    a = int(input(\"\"))\n",
    "    vector.append(a)\n",
    "print(\"Vector :\",vector)\n",
    "\n",
    "#Calling the fun for increasing order\n",
    "inc = matrix(vector,n,\"inc\")\n",
    "dec = matrix(vector,n,\"dec\")\n",
    "\n",
    "print(\"Increasing order: \\n\",inc)\n",
    "print(\"Decreasing order: \\n\",dec)"
   ]
  },
  {
   "cell_type": "code",
   "execution_count": null,
   "metadata": {},
   "outputs": [],
   "source": []
  }
 ],
 "metadata": {
  "kernelspec": {
   "display_name": "Python 3",
   "language": "python",
   "name": "python3"
  },
  "language_info": {
   "codemirror_mode": {
    "name": "ipython",
    "version": 3
   },
   "file_extension": ".py",
   "mimetype": "text/x-python",
   "name": "python",
   "nbconvert_exporter": "python",
   "pygments_lexer": "ipython3",
   "version": "3.7.6"
  }
 },
 "nbformat": 4,
 "nbformat_minor": 4
}
