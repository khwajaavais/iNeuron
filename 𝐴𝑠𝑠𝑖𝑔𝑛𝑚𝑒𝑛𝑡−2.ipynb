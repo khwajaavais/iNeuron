{
 "cells": [
  {
   "cell_type": "markdown",
   "metadata": {},
   "source": [
    "# $$ Assignment-2 $$\n",
    "# $$ Task-1 $$"
   ]
  },
  {
   "cell_type": "markdown",
   "metadata": {},
   "source": [
    "### Q1.1\n",
    "Write a Python Program to implement your own myreduce() function which works exactly like Python's built-in function reduce()"
   ]
  },
  {
   "cell_type": "code",
   "execution_count": null,
   "metadata": {},
   "outputs": [],
   "source": [
    "def myy_reduce_func(function, ip):\n",
    "    first = ip[0]\n",
    "    for i in ip[1:]:\n",
    "        first = function(first,i)\n",
    "    return first\n",
    "\n",
    "def add(a,b):\n",
    "    return a+b\n",
    "def sub(a,b):\n",
    "    return a-b\n",
    "def mul(a,b):\n",
    "    return a*b\n",
    "def div(a,b):\n",
    "    return a/b\n",
    "\n",
    "inp=[]\n",
    "ip = int(input(\"Enter the number: \"))\n",
    "for i in range(ip):\n",
    "    n = int(input(f\"Enter the num{i} : \"))\n",
    "    inp.append(n)\n",
    "\n",
    "# Calling the Function\n",
    "output = myy_reduce_func(add,inp)\n",
    "\n",
    "print(\"Output: \",output)"
   ]
  },
  {
   "cell_type": "markdown",
   "metadata": {},
   "source": [
    "### Q1.2\n",
    "Q Write a Python program to implement your own myfilter() function which works exactly like\n",
    "Python's built-in function filter()"
   ]
  },
  {
   "cell_type": "code",
   "execution_count": 10,
   "metadata": {},
   "outputs": [
    {
     "name": "stdout",
     "output_type": "stream",
     "text": [
      "Enter the list1 : k h w a j a a v a i s \n",
      "Enter the list2 : a e i o u\n",
      ">>Output :  ['a', 'i']\n"
     ]
    }
   ],
   "source": [
    "def my_filter(m,n):\n",
    "    listt=[]\n",
    "    for i in n:\n",
    "        for j in m:\n",
    "            if i==j:\n",
    "                listt.append(j)\n",
    "    listt = list(dict.fromkeys(listt))    \n",
    "    return listt\n",
    "\n",
    "# Input\n",
    "a=input(\"Enter the list1 : \")\n",
    "ip1 = a.split()\n",
    "\n",
    "b=input(\"Enter the list2 : \")\n",
    "ip2 = b.split()\n",
    "\n",
    "#Calling the Function\n",
    "out = my_filter(ip1,ip2)\n",
    "\n",
    "#Output\n",
    "print(\">>Output : \",out)"
   ]
  },
  {
   "cell_type": "code",
   "execution_count": null,
   "metadata": {},
   "outputs": [],
   "source": []
  },
  {
   "cell_type": "markdown",
   "metadata": {},
   "source": [
    "### Q2\n",
    "Implement List comprehensions to produce the following lists.\n",
    "Write List comprehensions to produce the following Lists\n",
    "\n",
    "['A', 'C', 'A', 'D', 'G', 'I', ’L’, ‘ D’]\n",
    "\n",
    "['x', 'xx', 'xxx', 'xxxx', 'y', 'yy', 'yyy', 'yyyy', 'z', 'zz', 'zzz', 'zzzz']\n",
    "\n",
    "['x', 'y', 'z', 'xx', 'yy', 'zz', 'xx', 'yy', 'zz', 'xxxx', 'yyyy', 'zzzz']\n",
    "\n",
    "[[2], [3], [4], [3], [4], [5], [4], [5], [6]]\n",
    "\n",
    "[[2, 3, 4, 5], [3, 4, 5, 6], [4, 5, 6, 7], [5, 6, 7, 8]]\n",
    "\n",
    "[(1, 1), (2, 1), (3, 1), (1, 2), (2, 2), (3, 2), (1, 3), (2, 3), (3, 3)]\n"
   ]
  },
  {
   "cell_type": "code",
   "execution_count": null,
   "metadata": {},
   "outputs": [],
   "source": [
    "def list1(inp):\n",
    "    m = []\n",
    "    for i in inp:\n",
    "        m.append(i)\n",
    "    return m\n",
    "\n",
    "ip1 = input(\"Enter the words : \")\n",
    "print(\"Input :\",ip1)\n",
    "\n",
    "# Calling the Function\n",
    "output = list1(ip1)\n",
    "\n",
    "print(\"Output :\",output)"
   ]
  },
  {
   "cell_type": "code",
   "execution_count": null,
   "metadata": {},
   "outputs": [],
   "source": [
    "# ['x', 'y', 'z', 'xx', 'yy', 'zz', 'xxx', 'yyy', 'zzz', 'xxxx', 'yyyy', 'zzzz']\n",
    "\n",
    "# ip1= [\"x\",\"y\",\"z\"]\n",
    "def list2(inp):\n",
    "    m2=[]\n",
    "    for i in range(1,5):\n",
    "        for j in ip2:\n",
    "            m2.append(j*i)\n",
    "    return m2\n",
    "\n",
    "ipp2 = input(\"Enter the input : \")\n",
    "ip2 = ipp2.split(\" \")\n",
    "print(ip2)\n",
    "\n",
    "# Calling the Function\n",
    "output2 = list2(ip2)\n",
    "\n",
    "print(\"Output: \",output2)"
   ]
  },
  {
   "cell_type": "code",
   "execution_count": null,
   "metadata": {},
   "outputs": [],
   "source": [
    "# ['x', 'xx', 'xxx', 'xxxx', 'y', 'yy', 'yyy', 'yyyy', 'z', 'zz', 'zzz', 'zzzz']\n",
    "\n",
    "# ip2 = [\"x\",\"y\",\"z\"]\n",
    "def list3(inp):\n",
    "    \n",
    "    op3 = []\n",
    "\n",
    "    for i in inp:\n",
    "        for j in range(1,5):\n",
    "            op3.append(i*j)\n",
    "    return op3\n",
    "\n",
    "ipp3 = input(\"Enter the input : \")\n",
    "ip3 = ipp3.split(\" \")\n",
    "print(\"Input: \",ip3)\n",
    "\n",
    "# Calling the Function\n",
    "output3 = list3(ip3)\n",
    "\n",
    "print(\"Output: \",output3)"
   ]
  },
  {
   "cell_type": "code",
   "execution_count": null,
   "metadata": {},
   "outputs": [],
   "source": [
    "# [[2], [3], [4], [3], [4], [5], [4], [5], [6]]\n",
    "\n",
    "def list4(inp):\n",
    "    m=[]\n",
    "    for i in inp:\n",
    "        for j in range(3):\n",
    "            m.append([i+j])\n",
    "    return m\n",
    "\n",
    "ip4 =[2,3,4]\n",
    "\n",
    "# Calling the Function\n",
    "output4 = list4(ip4)\n",
    "\n",
    "print(\"Output: \",output4)"
   ]
  },
  {
   "cell_type": "code",
   "execution_count": null,
   "metadata": {},
   "outputs": [],
   "source": [
    "# [[2, 3, 4, 5], [3, 4, 5, 6], [4, 5, 6, 7], [5, 6, 7, 8]]\n",
    "\n",
    "def list5(inp):\n",
    "    result = [ [item+num for item in inp] for num in range(0,4)  ]\n",
    "    return result\n",
    "\n",
    "\n",
    "ip5 =[2,3,4,5]\n",
    "\n",
    "# Calling the Function\n",
    "output5 = list5(ip5)\n",
    "\n",
    "print(\"Output: \",output5)"
   ]
  },
  {
   "cell_type": "code",
   "execution_count": null,
   "metadata": {},
   "outputs": [],
   "source": [
    "# [(1, 1), (2, 1), (3, 1), (1, 2), (2, 2), (3, 2), (1, 3), (2, 3), (3, 3)]\n",
    "def list6(inp_s, inp_e):\n",
    "    m=[]\n",
    "    for i in range(inp_s,inp_e):\n",
    "        for j in range(inp_s,inp_e):\n",
    "            m.append((j,i))\n",
    "    return m\n",
    "\n",
    "ip6_s = int(input(\"Enter the start range : \"))\n",
    "ip6_e = int(input(\"Enter the end range : \"))\n",
    "\n",
    "# ip6 = ipp6.split(\" \")\n",
    "print(f\"Start Range: {ip6_s}  \\nEnd   Range: {ip6_e}\")\n",
    "\n",
    "# Calling the Function\n",
    "output6 = list6(ip6_s,ip6_e)\n",
    "\n",
    "print(\"Output: \",output6)"
   ]
  },
  {
   "cell_type": "code",
   "execution_count": null,
   "metadata": {},
   "outputs": [],
   "source": []
  },
  {
   "cell_type": "markdown",
   "metadata": {},
   "source": [
    "### Q3\n",
    "Implement a function longestWord() that takes a list of words and returns the longest one."
   ]
  },
  {
   "cell_type": "code",
   "execution_count": null,
   "metadata": {},
   "outputs": [],
   "source": [
    "def longestWord(m):\n",
    "    large = m[0]\n",
    "    for i in m[1:]:\n",
    "        if len(large) < len(i):\n",
    "            large = i\n",
    "    return large\n",
    "\n",
    "# Input\n",
    "a = int(input(\"Enter the number for a list : \"))\n",
    "m=[]\n",
    "for i in range(a):\n",
    "    inp = input(f\"Enter the Word{i} : \")\n",
    "    m.append(inp)\n",
    "    \n",
    "# Calling the Function\n",
    "output = longestWord(m)\n",
    "\n",
    "print(\"\")\n",
    "print(\"Longest One: >>\",output)"
   ]
  },
  {
   "cell_type": "markdown",
   "metadata": {},
   "source": [
    "# $$Task-2$$"
   ]
  },
  {
   "cell_type": "markdown",
   "metadata": {},
   "source": [
    "### Q1.1"
   ]
  },
  {
   "cell_type": "markdown",
   "metadata": {},
   "source": [
    "Write a Python Program(with class concepts) to find the area of the triangle using the below formula.\n",
    "Area = (s*(s-a)*(s-b)*(s-c)) ** 0.5\n",
    "Function to take the length of the sides of triangle from user should be defined in the parent class and function to calculate the area should be defined in subclass"
   ]
  },
  {
   "cell_type": "code",
   "execution_count": null,
   "metadata": {},
   "outputs": [],
   "source": [
    "class parent_Area:\n",
    "    def __init__(self, side):\n",
    "        self.side = side\n",
    "    \n",
    "    def user_input(self):\n",
    "        return self.side\n",
    "\n",
    "class sub_Area(parent_Area):\n",
    "    def __init__(self,a,b,c,*args):\n",
    "        super(sub_Area,self).__init__(*args)\n",
    "        self.a=a\n",
    "        self.b=b\n",
    "        self.c=c\n",
    "        \n",
    "    def Area(self):\n",
    "        self.side = int(input(\"Enter the value of Side: \"))\n",
    "        print(\" \")\n",
    "        self.a = int(input(\"Enter the value of A: \"))\n",
    "        self.b = int(input(\"Enter the value of B: \"))\n",
    "        self.c = int(input(\"Enter the value of C: \"))\n",
    "        \n",
    "        Area = (self.side*(self.side-self.a)*(self.side-self.b)*(self.side-self.c)) * 0.5\n",
    "        print(\"\")\n",
    "        print(\">> Area: \",Area)\n",
    "#         return Area\n",
    "    \n",
    "obj = sub_Area(_,_,_,_) # 5 is the sides\n",
    "obj.Area()"
   ]
  },
  {
   "cell_type": "code",
   "execution_count": null,
   "metadata": {},
   "outputs": [],
   "source": []
  },
  {
   "cell_type": "markdown",
   "metadata": {},
   "source": [
    "### Q1.2\n",
    "Write a function filter_long_words() that takes a list of words and an integer n and returns the list\n",
    "of words that are longer than n."
   ]
  },
  {
   "cell_type": "code",
   "execution_count": null,
   "metadata": {},
   "outputs": [],
   "source": [
    "def thres_l(m,threshold):\n",
    "    th=[]\n",
    "    for i in m:\n",
    "        if threshold < len(i):\n",
    "            th.append(i)\n",
    "    return th\n",
    "\n",
    "# Input\n",
    "a = int(input(\"Enter the number for a list : \"))\n",
    "m=[]\n",
    "for i in range(a):\n",
    "    inp = input(f\"Enter the Word{i} : \")\n",
    "    m.append(inp)\n",
    "\n",
    "thres = int(input(\"\\nEnter the threshold : \"))\n",
    "    \n",
    "# Calling the Function\n",
    "output = thres_l(m,thres)\n",
    "\n",
    "print(\"\\nThreshold List: >>\",output)"
   ]
  },
  {
   "cell_type": "code",
   "execution_count": null,
   "metadata": {},
   "outputs": [],
   "source": []
  },
  {
   "cell_type": "markdown",
   "metadata": {},
   "source": [
    "## Q 2.1 \n",
    "Write a Python program using function concept that maps list of words into a list of integers representing the lengths of the corresponding words .\n",
    "Hint: If a list [ ab,cde,erty] is passed on to the python function output should come as [2,3,4]\n",
    "Here 2,3 and 4 are the lengths of the words in the list."
   ]
  },
  {
   "cell_type": "code",
   "execution_count": null,
   "metadata": {},
   "outputs": [],
   "source": [
    "# lit = [\"asdf\",\"qwerty\",\"Khwajaavais Lakdawala\"]\n",
    "# User Generated List\n",
    "lit = list(input(\"<< Input: \").split(\",\"))\n",
    "# print(lit)\n",
    "def count(lst):\n",
    "    m=[]\n",
    "    for i in lst:\n",
    "        m.append(len(i))\n",
    "    return m\n",
    "\n",
    "result_ = count(lit)\n",
    "print(\">> Output Method1: \",result_)\n",
    "\n",
    "# OR\n",
    "result = list(map(len,lit))\n",
    "print(\">> Output Method2: \",result)"
   ]
  },
  {
   "cell_type": "code",
   "execution_count": null,
   "metadata": {},
   "outputs": [],
   "source": []
  },
  {
   "cell_type": "markdown",
   "metadata": {},
   "source": [
    "## Q2.2 \n",
    "Write a Python function which takes a character (i.e. a string of length 1) and returns True if it is a vowel, False otherwise."
   ]
  },
  {
   "cell_type": "code",
   "execution_count": null,
   "metadata": {},
   "outputs": [],
   "source": [
    "def vow():\n",
    "    cchar = input(\"Enter the character to check it is a Vowel or not :\")\n",
    "    lisst = [\"a\",\"e\",\"i\",\"o\",\"u\"]\n",
    "    if len(cchar) == 1:\n",
    "        if cchar.isalpha():\n",
    "            if cchar.lower() in lisst:\n",
    "#         print(\">\",cchar)\n",
    "                return True\n",
    "            else:\n",
    "                return False\n",
    "        elif cchar.isalnum():\n",
    "            print(\"Enter Characters only\")\n",
    "    else:\n",
    "        print(\"Enter a single Character\")\n",
    "vow()"
   ]
  }
 ],
 "metadata": {
  "kernelspec": {
   "display_name": "Python 3",
   "language": "python",
   "name": "python3"
  },
  "language_info": {
   "codemirror_mode": {
    "name": "ipython",
    "version": 3
   },
   "file_extension": ".py",
   "mimetype": "text/x-python",
   "name": "python",
   "nbconvert_exporter": "python",
   "pygments_lexer": "ipython3",
   "version": "3.7.6"
  }
 },
 "nbformat": 4,
 "nbformat_minor": 4
}
